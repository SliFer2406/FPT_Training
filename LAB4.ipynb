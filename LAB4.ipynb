{
  "nbformat": 4,
  "nbformat_minor": 0,
  "metadata": {
    "colab": {
      "name": "LAB4.ipynb",
      "provenance": [],
      "include_colab_link": true
    },
    "kernelspec": {
      "name": "python3",
      "display_name": "Python 3"
    },
    "language_info": {
      "name": "python"
    }
  },
  "cells": [
    {
      "cell_type": "markdown",
      "metadata": {
        "id": "view-in-github",
        "colab_type": "text"
      },
      "source": [
        "<a href=\"https://colab.research.google.com/github/SliFer2406/FPT_Training/blob/main/LAB4.ipynb\" target=\"_parent\"><img src=\"https://colab.research.google.com/assets/colab-badge.svg\" alt=\"Open In Colab\"/></a>"
      ]
    },
    {
      "cell_type": "markdown",
      "source": [
        "**Do Manh Ha-Lab 4**"
      ],
      "metadata": {
        "id": "7K20KOcFjp1_"
      }
    },
    {
      "cell_type": "code",
      "execution_count": null,
      "metadata": {
        "colab": {
          "base_uri": "https://localhost:8080/"
        },
        "id": "FFtiU2J6h9yy",
        "outputId": "e050ca20-fe7a-4619-effc-0ff97d8595fe"
      },
      "outputs": [
        {
          "output_type": "stream",
          "name": "stdout",
          "text": [
            "/content/drive/MyDrive/Collab_SE1726/Lab4\n"
          ]
        }
      ],
      "source": [
        "%cd /content/drive/MyDrive/Collab_SE1726/Lab4\n",
        "#dẫn nguồn tới Lab4Lab4"
      ]
    },
    {
      "cell_type": "code",
      "source": [
        "from google.colab import drive\n",
        "drive.mount('/content/drive')\n",
        "#tại colab thêm drive và dẫn nguồn /content/drive."
      ],
      "metadata": {
        "colab": {
          "base_uri": "https://localhost:8080/"
        },
        "id": "rPOrsrcyvqVm",
        "outputId": "d115616d-994d-4a4a-b235-1876014c985e"
      },
      "execution_count": null,
      "outputs": [
        {
          "output_type": "stream",
          "name": "stdout",
          "text": [
            "Drive already mounted at /content/drive; to attempt to forcibly remount, call drive.mount(\"/content/drive\", force_remount=True).\n"
          ]
        }
      ]
    },
    {
      "cell_type": "markdown",
      "source": [
        "Chuyển đuôi file .txt thành .c"
      ],
      "metadata": {
        "id": "KOOxj4gnld9V"
      }
    },
    {
      "cell_type": "code",
      "source": [
        "%mv fork1.txt fork1.c"
      ],
      "metadata": {
        "id": "VJLNgNZAjIPZ",
        "outputId": "52b226da-4b98-48f1-c48a-81bb3d3ce109",
        "colab": {
          "base_uri": "https://localhost:8080/"
        }
      },
      "execution_count": null,
      "outputs": [
        {
          "output_type": "stream",
          "name": "stdout",
          "text": [
            "mv: cannot stat 'fork1.txt': No such file or directory\n"
          ]
        }
      ]
    },
    {
      "cell_type": "code",
      "source": [
        "%mv fork2.txt fork2.c"
      ],
      "metadata": {
        "id": "cl4HWxbIjIVN",
        "outputId": "26d0b769-8523-4b3d-d449-51c4e6499e89",
        "colab": {
          "base_uri": "https://localhost:8080/"
        }
      },
      "execution_count": null,
      "outputs": [
        {
          "output_type": "stream",
          "name": "stdout",
          "text": [
            "mv: cannot stat 'fork2.txt': No such file or directory\n"
          ]
        }
      ]
    },
    {
      "cell_type": "code",
      "source": [
        "%mv thread1.txt thread1.c"
      ],
      "metadata": {
        "id": "yADzSTFXkiw1",
        "outputId": "dde86047-1d11-45c5-df2a-17af46c0e9e8",
        "colab": {
          "base_uri": "https://localhost:8080/"
        }
      },
      "execution_count": null,
      "outputs": [
        {
          "output_type": "stream",
          "name": "stdout",
          "text": [
            "mv: cannot stat 'thread1.txt': No such file or directory\n"
          ]
        }
      ]
    },
    {
      "cell_type": "code",
      "source": [
        "%mv thread2.txt thread2.c"
      ],
      "metadata": {
        "id": "OrepT8pFk47l",
        "outputId": "800968cf-4e62-4d76-c411-c7ae27fd32d3",
        "colab": {
          "base_uri": "https://localhost:8080/"
        }
      },
      "execution_count": null,
      "outputs": [
        {
          "output_type": "stream",
          "name": "stdout",
          "text": [
            "mv: cannot stat 'thread2.txt': No such file or directory\n"
          ]
        }
      ]
    },
    {
      "cell_type": "code",
      "source": [
        "%mv thread3.txt thread3.c"
      ],
      "metadata": {
        "id": "H5jX_hVqlAKk",
        "outputId": "a5a01001-25e0-4f12-d3e7-421b3e3e5576",
        "colab": {
          "base_uri": "https://localhost:8080/"
        }
      },
      "execution_count": null,
      "outputs": [
        {
          "output_type": "stream",
          "name": "stdout",
          "text": [
            "mv: cannot stat 'thread3.txt': No such file or directory\n"
          ]
        }
      ]
    },
    {
      "cell_type": "code",
      "source": [
        "%mv thread4.txt thread4.c"
      ],
      "metadata": {
        "id": "X4CO4Ai0lAZ1",
        "outputId": "039e3971-1d8a-4f05-cdc7-72c7bec308b0",
        "colab": {
          "base_uri": "https://localhost:8080/"
        }
      },
      "execution_count": null,
      "outputs": [
        {
          "output_type": "stream",
          "name": "stdout",
          "text": [
            "mv: cannot stat 'thread4.txt': No such file or directory\n"
          ]
        }
      ]
    },
    {
      "cell_type": "markdown",
      "source": [
        "Dùng !make và !gcc để tạo,tải môi trường hoạt động cho 6 file, trong đó 2 file fork có 2 môi trường khác môi trường C cơ bản nên phải tạo môi trường khác"
      ],
      "metadata": {
        "id": "wtKdsle9j4zl"
      }
    },
    {
      "cell_type": "code",
      "source": [
        "!make fork1"
      ],
      "metadata": {
        "colab": {
          "base_uri": "https://localhost:8080/"
        },
        "id": "-1coDDPGmZCk",
        "outputId": "617b0671-e5b9-42ce-fbcb-0cafa18e824b"
      },
      "execution_count": null,
      "outputs": [
        {
          "output_type": "stream",
          "name": "stdout",
          "text": [
            "make: 'fork1' is up to date.\n"
          ]
        }
      ]
    },
    {
      "cell_type": "code",
      "source": [
        "!gcc fork2.c -o fork2"
      ],
      "metadata": {
        "colab": {
          "base_uri": "https://localhost:8080/"
        },
        "id": "11L38pPdm9Ns",
        "outputId": "721083d5-2fdf-4dbc-bda8-c2d00c01b41e"
      },
      "execution_count": null,
      "outputs": [
        {
          "output_type": "stream",
          "name": "stdout",
          "text": [
            "\u001b[01m\u001b[Kfork2.c:\u001b[m\u001b[K In function ‘\u001b[01m\u001b[Kmain\u001b[m\u001b[K’:\n",
            "\u001b[01m\u001b[Kfork2.c:24:3:\u001b[m\u001b[K \u001b[01;35m\u001b[Kwarning: \u001b[m\u001b[Kimplicit declaration of function ‘\u001b[01m\u001b[Kwait\u001b[m\u001b[K’; did you mean ‘\u001b[01m\u001b[Kmain\u001b[m\u001b[K’? [\u001b[01;35m\u001b[K-Wimplicit-function-declaration\u001b[m\u001b[K]\n",
            "   \u001b[01;35m\u001b[Kwait\u001b[m\u001b[K(NULL);\r\n",
            "   \u001b[01;35m\u001b[K^~~~\u001b[m\u001b[K\n",
            "   \u001b[32m\u001b[Kmain\u001b[m\u001b[K\n"
          ]
        }
      ]
    },
    {
      "cell_type": "code",
      "source": [
        "!gcc thread1.c -o thread1 -pthread"
      ],
      "metadata": {
        "id": "066Yj--Hm_Ws"
      },
      "execution_count": 45,
      "outputs": []
    },
    {
      "cell_type": "code",
      "source": [
        "!gcc thread2.c -o thread2 -pthread"
      ],
      "metadata": {
        "colab": {
          "base_uri": "https://localhost:8080/"
        },
        "id": "CPjODkYHnKI0",
        "outputId": "ee771369-72d9-41eb-bc27-e3f7f10e5727"
      },
      "execution_count": null,
      "outputs": [
        {
          "output_type": "stream",
          "name": "stdout",
          "text": [
            "\u001b[01m\u001b[Kthread2.c:\u001b[m\u001b[K In function ‘\u001b[01m\u001b[KmyThreadFun\u001b[m\u001b[K’:\n",
            "\u001b[01m\u001b[Kthread2.c:10:16:\u001b[m\u001b[K \u001b[01;35m\u001b[Kwarning: \u001b[m\u001b[Kcast from pointer to integer of different size [\u001b[01;35m\u001b[K-Wpointer-to-int-cast\u001b[m\u001b[K]\n",
            "     int myid = \u001b[01;35m\u001b[K(\u001b[m\u001b[Kint)vargp;\r\n",
            "                \u001b[01;35m\u001b[K^\u001b[m\u001b[K\n",
            "\u001b[01m\u001b[Kthread2.c:\u001b[m\u001b[K In function ‘\u001b[01m\u001b[Kmain\u001b[m\u001b[K’:\n",
            "\u001b[01m\u001b[Kthread2.c:25:52:\u001b[m\u001b[K \u001b[01;35m\u001b[Kwarning: \u001b[m\u001b[Kcast to pointer from integer of different size [\u001b[01;35m\u001b[K-Wint-to-pointer-cast\u001b[m\u001b[K]\n",
            "         pthread_create(&tid[i], NULL, myThreadFun, \u001b[01;35m\u001b[K(\u001b[m\u001b[Kvoid *)i);\r\n",
            "                                                    \u001b[01;35m\u001b[K^\u001b[m\u001b[K\n"
          ]
        }
      ]
    },
    {
      "cell_type": "code",
      "source": [
        "!gcc thread3.c -o thread3 -pthread"
      ],
      "metadata": {
        "colab": {
          "base_uri": "https://localhost:8080/"
        },
        "id": "oKiQFxClqF47",
        "outputId": "09561eb0-e532-40d2-9b70-49bff74f643e"
      },
      "execution_count": null,
      "outputs": [
        {
          "output_type": "stream",
          "name": "stdout",
          "text": [
            "\u001b[01m\u001b[Kthread3.c:\u001b[m\u001b[K In function ‘\u001b[01m\u001b[Kmain\u001b[m\u001b[K’:\n",
            "\u001b[01m\u001b[Kthread3.c:22:49:\u001b[m\u001b[K \u001b[01;35m\u001b[Kwarning: \u001b[m\u001b[Kformat ‘\u001b[01m\u001b[K%ld\u001b[m\u001b[K’ expects argument of type ‘\u001b[01m\u001b[Klong int\u001b[m\u001b[K’, but argument 2 has type ‘\u001b[01m\u001b[K__pid_t {aka int}\u001b[m\u001b[K’ [\u001b[01;35m\u001b[K-Wformat=\u001b[m\u001b[K]\n",
            "  printf (\"I am a process and my process id is \u001b[01;35m\u001b[K%ld\u001b[m\u001b[K\\n\", \u001b[32m\u001b[Kgetpid()\u001b[m\u001b[K);\r\n",
            "                                               \u001b[01;35m\u001b[K~~^\u001b[m\u001b[K     \u001b[32m\u001b[K~~~~~~~~\u001b[m\u001b[K\n",
            "                                               \u001b[32m\u001b[K%d\u001b[m\u001b[K\n"
          ]
        }
      ]
    },
    {
      "cell_type": "code",
      "source": [
        "!gcc thread4.c -o thread4 -pthread"
      ],
      "metadata": {
        "colab": {
          "base_uri": "https://localhost:8080/"
        },
        "id": "t-19Z5D7qNk0",
        "outputId": "0c370842-91ef-4cb2-9b74-bf6d1fac6a8f"
      },
      "execution_count": null,
      "outputs": [
        {
          "output_type": "stream",
          "name": "stdout",
          "text": [
            "\u001b[01m\u001b[Kthread4.c:\u001b[m\u001b[K In function ‘\u001b[01m\u001b[Khello\u001b[m\u001b[K’:\n",
            "\u001b[01m\u001b[Kthread4.c:30:24:\u001b[m\u001b[K \u001b[01;35m\u001b[Kwarning: \u001b[m\u001b[Kformat ‘\u001b[01m\u001b[K%d\u001b[m\u001b[K’ expects argument of type ‘\u001b[01m\u001b[Kint\u001b[m\u001b[K’, but argument 2 has type ‘\u001b[01m\u001b[Kpthread_t {aka long unsigned int}\u001b[m\u001b[K’ [\u001b[01;35m\u001b[K-Wformat=\u001b[m\u001b[K]\n",
            "  printf (\"I am thread \u001b[01;35m\u001b[K%d\u001b[m\u001b[K and am printing out hello\\n\", \u001b[32m\u001b[Kpthread_self()\u001b[m\u001b[K);\r\n",
            "                       \u001b[01;35m\u001b[K~^\u001b[m\u001b[K                               \u001b[32m\u001b[K~~~~~~~~~~~~~~\u001b[m\u001b[K\n",
            "                       \u001b[32m\u001b[K%ld\u001b[m\u001b[K\n",
            "\u001b[01m\u001b[Kthread4.c:\u001b[m\u001b[K In function ‘\u001b[01m\u001b[Kbye\u001b[m\u001b[K’:\n",
            "\u001b[01m\u001b[Kthread4.c:38:24:\u001b[m\u001b[K \u001b[01;35m\u001b[Kwarning: \u001b[m\u001b[Kformat ‘\u001b[01m\u001b[K%d\u001b[m\u001b[K’ expects argument of type ‘\u001b[01m\u001b[Kint\u001b[m\u001b[K’, but argument 2 has type ‘\u001b[01m\u001b[Kpthread_t {aka long unsigned int}\u001b[m\u001b[K’ [\u001b[01;35m\u001b[K-Wformat=\u001b[m\u001b[K]\n",
            "  printf (\"I am thread \u001b[01;35m\u001b[K%d\u001b[m\u001b[K and am printing out bye\\n\", \u001b[32m\u001b[Kpthread_self()\u001b[m\u001b[K);\r\n",
            "                       \u001b[01;35m\u001b[K~^\u001b[m\u001b[K                             \u001b[32m\u001b[K~~~~~~~~~~~~~~\u001b[m\u001b[K\n",
            "                       \u001b[32m\u001b[K%ld\u001b[m\u001b[K\n"
          ]
        }
      ]
    },
    {
      "cell_type": "markdown",
      "source": [
        "Chạy 6 file"
      ],
      "metadata": {
        "id": "B2DM0IGXk15y"
      }
    },
    {
      "cell_type": "code",
      "source": [
        "!./fork1"
      ],
      "metadata": {
        "colab": {
          "base_uri": "https://localhost:8080/"
        },
        "id": "tjSyAMa5mndE",
        "outputId": "6b5a3b2f-f028-474e-8c0d-242d8c1919db"
      },
      "execution_count": null,
      "outputs": [
        {
          "output_type": "stream",
          "name": "stdout",
          "text": [
            "This process is running under parent process \n",
            "This process id = 735, is a child process of parent process id = 734\n"
          ]
        }
      ]
    },
    {
      "cell_type": "code",
      "source": [
        "!./fork2"
      ],
      "metadata": {
        "colab": {
          "base_uri": "https://localhost:8080/"
        },
        "id": "4NzDenP2qvOL",
        "outputId": "86a5efa0-bc4d-45b9-fa47-9d4424f0f980"
      },
      "execution_count": null,
      "outputs": [
        {
          "output_type": "stream",
          "name": "stdout",
          "text": [
            "This process is running under parent process \n",
            "This process id = 739, is a child process of parent process id = 738\n",
            "This process is running under parent process \n",
            "This process is running under parent process \n",
            "This process id = 741, is a child process of parent process id = 738\n",
            "This process id = 740, is a child process of parent process id = 738\n",
            "total 57\n",
            "-rwx------ 1 root root 8472 Jun 28 13:43 fork1\n",
            "-rw------- 1 root root  403 Jun 28 13:42 fork1.c\n",
            "-rwx------ 1 root root 8600 Jun 28 14:15 fork2\n",
            "-rw------- 1 root root  623 Jun 28 13:43 fork2.c\n",
            "-rwx------ 1 root root 8568 Jun 28 14:15 thread1\n",
            "-rw------- 1 root root  566 Jun 28 13:41 thread1.c\n",
            "-rwx------ 1 root root 8520 Jun 28 14:15 thread2\n",
            "-rw------- 1 root root 1240 Jun 28 13:41 thread2.c\n",
            "-rwx------ 1 root root 8680 Jun 28 14:15 thread3\n",
            "-rw------- 1 root root  928 Jun 28 13:41 thread3.c\n",
            "-rwx------ 1 root root 8560 Jun 28 14:15 thread4\n",
            "-rw------- 1 root root  895 Jun 28 13:41 thread4.c\n",
            "total 57\n",
            "-rwx------ 1 root root 8472 Jun 28 13:43 fork1\n",
            "-rw------- 1 root root  403 Jun 28 13:42 fork1.c\n",
            "-rwx------ 1 root root 8600 Jun 28 14:15 fork2\n",
            "-rw------- 1 root root  623 Jun 28 13:43 fork2.c\n",
            "-rwx------ 1 root root 8568 Jun 28 14:15 thread1\n",
            "-rw------- 1 root root  566 Jun 28 13:41 thread1.c\n",
            "-rwx------ 1 root root 8520 Jun 28 14:15 thread2\n",
            "-rw------- 1 root root 1240 Jun 28 13:41 thread2.c\n",
            "-rwx------ 1 root root 8680 Jun 28 14:15 thread3\n",
            "-rw------- 1 root root  928 Jun 28 13:41 thread3.c\n",
            "-rwx------ 1 root root 8560 Jun 28 14:15 thread4\n",
            "-rw------- 1 root root  895 Jun 28 13:41 thread4.c\n",
            "total 57\n",
            "-rwx------ 1 root root 8472 Jun 28 13:43 fork1\n",
            "-rw------- 1 root root  403 Jun 28 13:42 fork1.c\n",
            "-rwx------ 1 root root 8600 Jun 28 14:15 fork2\n",
            "-rw------- 1 root root  623 Jun 28 13:43 fork2.c\n",
            "-rwx------ 1 root root 8568 Jun 28 14:15 thread1\n",
            "-rw------- 1 root root  566 Jun 28 13:41 thread1.c\n",
            "-rwx------ 1 root root 8520 Jun 28 14:15 thread2\n",
            "-rw------- 1 root root 1240 Jun 28 13:41 thread2.c\n",
            "-rwx------ 1 root root 8680 Jun 28 14:15 thread3\n",
            "-rw------- 1 root root  928 Jun 28 13:41 thread3.c\n",
            "-rwx------ 1 root root 8560 Jun 28 14:15 thread4\n",
            "-rw------- 1 root root  895 Jun 28 13:41 thread4.c\n",
            "Parent has PID (process-id): #738\n"
          ]
        }
      ]
    },
    {
      "cell_type": "code",
      "source": [
        "!./thread1"
      ],
      "metadata": {
        "colab": {
          "base_uri": "https://localhost:8080/"
        },
        "id": "FxdI4QNYqvlj",
        "outputId": "f1ebfcb0-d094-4362-daab-ee39bbf00880"
      },
      "execution_count": null,
      "outputs": [
        {
          "output_type": "stream",
          "name": "stdout",
          "text": [
            "in child thread, val = 2\n",
            "in the main thread, val = 3\n"
          ]
        }
      ]
    },
    {
      "cell_type": "code",
      "source": [
        "!./thread2"
      ],
      "metadata": {
        "colab": {
          "base_uri": "https://localhost:8080/"
        },
        "id": "qoEvJs7cqwNb",
        "outputId": "a75ff1de-8600-4c2e-d305-261c0d3870a7"
      },
      "execution_count": null,
      "outputs": [
        {
          "output_type": "stream",
          "name": "stdout",
          "text": [
            "Thread ID: 0, Value1: 1, Value2: 1\n",
            "Thread ID: 1, Value1: 1, Value2: 2\n",
            "Thread ID: 2, Value1: 1, Value2: 3\n"
          ]
        }
      ]
    },
    {
      "cell_type": "code",
      "source": [
        "!./thread3"
      ],
      "metadata": {
        "colab": {
          "base_uri": "https://localhost:8080/"
        },
        "id": "nSJjN9SEqwHL",
        "outputId": "9ac680a8-0c8c-4f2e-9f37-74d8562183da"
      },
      "execution_count": null,
      "outputs": [
        {
          "output_type": "stream",
          "name": "stdout",
          "text": [
            "I am a process and my process id is 748\n",
            "I am a process and the thread with id 140413117294336 that I created has terminated\n",
            "I am a thread and my id is 140413117294336.\n",
            "I am a thread and my id is 140413117294336.\n",
            "I am a thread and I am now going to terminate.\n"
          ]
        }
      ]
    },
    {
      "cell_type": "code",
      "source": [
        "!./thread4"
      ],
      "metadata": {
        "colab": {
          "base_uri": "https://localhost:8080/"
        },
        "id": "4FseeQi-qv-C",
        "outputId": "2123073b-9c5c-4f24-ad72-2d4621fef8c7"
      },
      "execution_count": null,
      "outputs": [
        {
          "output_type": "stream",
          "name": "stdout",
          "text": [
            "I am a process with id 750 and I am going to terminate now\n"
          ]
        }
      ]
    }
  ]
}